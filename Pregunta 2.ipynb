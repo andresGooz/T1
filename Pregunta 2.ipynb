{
 "cells": [
  {
   "cell_type": "markdown",
   "metadata": {},
   "source": [
    "En esta sección intentaremos analizar audios .wav para determinar a que clase pertenece. \n",
    "clases posibles:\n",
    "    Normal, Murmur, Extra Heart Sound, Artifact."
   ]
  },
  {
   "cell_type": "code",
   "execution_count": 71,
   "metadata": {},
   "outputs": [],
   "source": [
    "from scipy.io import wavfile\n",
    "def clean_filename(fname, string):\n",
    "    file_name = fname.split('/')[1]\n",
    "    if file_name[:2] == '__':\n",
    "        file_name = string + file_name\n",
    "    return file_name\n",
    "SAMPLE_RATE = 44100\n",
    "def load_wav_file(name, path):\n",
    "    s, b = wavfile.read(path + name)\n",
    "    assert s == SAMPLE_RATE\n",
    "    return b"
   ]
  },
  {
   "cell_type": "markdown",
   "metadata": {},
   "source": [
    ">a) Construya un dataframe con los datos a analizar. Describa el dataset y determine cuántos registros hay por clase."
   ]
  },
  {
   "cell_type": "code",
   "execution_count": 72,
   "metadata": {},
   "outputs": [],
   "source": [
    "import pandas as pd\n",
    "import numpy as np\n",
    "df = pd.read_csv('set_a.csv')"
   ]
  },
  {
   "cell_type": "code",
   "execution_count": 73,
   "metadata": {},
   "outputs": [
    {
     "data": {
      "text/html": [
       "<div>\n",
       "<style scoped>\n",
       "    .dataframe tbody tr th:only-of-type {\n",
       "        vertical-align: middle;\n",
       "    }\n",
       "\n",
       "    .dataframe tbody tr th {\n",
       "        vertical-align: top;\n",
       "    }\n",
       "\n",
       "    .dataframe thead th {\n",
       "        text-align: right;\n",
       "    }\n",
       "</style>\n",
       "<table border=\"1\" class=\"dataframe\">\n",
       "  <thead>\n",
       "    <tr style=\"text-align: right;\">\n",
       "      <th></th>\n",
       "      <th>dataset</th>\n",
       "      <th>fname</th>\n",
       "      <th>label</th>\n",
       "      <th>sublabel</th>\n",
       "    </tr>\n",
       "  </thead>\n",
       "  <tbody>\n",
       "    <tr>\n",
       "      <th>0</th>\n",
       "      <td>a</td>\n",
       "      <td>set_a/artifact__201012172012.wav</td>\n",
       "      <td>artifact</td>\n",
       "      <td>NaN</td>\n",
       "    </tr>\n",
       "    <tr>\n",
       "      <th>1</th>\n",
       "      <td>a</td>\n",
       "      <td>set_a/artifact__201105040918.wav</td>\n",
       "      <td>artifact</td>\n",
       "      <td>NaN</td>\n",
       "    </tr>\n",
       "  </tbody>\n",
       "</table>\n",
       "</div>"
      ],
      "text/plain": [
       "  dataset                             fname     label  sublabel\n",
       "0       a  set_a/artifact__201012172012.wav  artifact       NaN\n",
       "1       a  set_a/artifact__201105040918.wav  artifact       NaN"
      ]
     },
     "execution_count": 73,
     "metadata": {},
     "output_type": "execute_result"
    }
   ],
   "source": [
    "df.head(2)"
   ]
  },
  {
   "cell_type": "code",
   "execution_count": 74,
   "metadata": {},
   "outputs": [
    {
     "data": {
      "text/plain": [
       "array(['artifact', 'extrahls', 'murmur', 'normal', nan], dtype=object)"
      ]
     },
     "execution_count": 74,
     "metadata": {},
     "output_type": "execute_result"
    }
   ],
   "source": [
    "df.label.unique()"
   ]
  },
  {
   "cell_type": "markdown",
   "metadata": {},
   "source": [
    "Se aprecia que dentro de las categorias hay algunas con valores nan"
   ]
  },
  {
   "cell_type": "code",
   "execution_count": 75,
   "metadata": {},
   "outputs": [
    {
     "name": "stdout",
     "output_type": "stream",
     "text": [
      "artifact    40\n",
      "murmur      34\n",
      "normal      31\n",
      "extrahls    19\n",
      "Name: label, dtype: int64\n"
     ]
    }
   ],
   "source": [
    "print (df.label.value_counts())"
   ]
  },
  {
   "cell_type": "markdown",
   "metadata": {},
   "source": [
    ">b) Lea los archivos .wav y transformelos en secuencias de tiempo. Realice un padding de ceros al final de cada secuencia para que todas queden representadas con la misma cantidad de elementos, explique la importancia de realizar este paso."
   ]
  },
  {
   "cell_type": "code",
   "execution_count": 76,
   "metadata": {},
   "outputs": [
    {
     "data": {
      "text/html": [
       "<div>\n",
       "<style scoped>\n",
       "    .dataframe tbody tr th:only-of-type {\n",
       "        vertical-align: middle;\n",
       "    }\n",
       "\n",
       "    .dataframe tbody tr th {\n",
       "        vertical-align: top;\n",
       "    }\n",
       "\n",
       "    .dataframe thead th {\n",
       "        text-align: right;\n",
       "    }\n",
       "</style>\n",
       "<table border=\"1\" class=\"dataframe\">\n",
       "  <thead>\n",
       "    <tr style=\"text-align: right;\">\n",
       "      <th></th>\n",
       "      <th>file_name</th>\n",
       "      <th>label</th>\n",
       "      <th>time_series</th>\n",
       "      <th>len_series</th>\n",
       "    </tr>\n",
       "  </thead>\n",
       "  <tbody>\n",
       "    <tr>\n",
       "      <th>0</th>\n",
       "      <td>artifact__201012172012.wav</td>\n",
       "      <td>artifact</td>\n",
       "      <td>[1.0, -3.0, -1.0, -7.0, -9.0, -2.0, -6.0, -5.0...</td>\n",
       "      <td>396900</td>\n",
       "    </tr>\n",
       "    <tr>\n",
       "      <th>1</th>\n",
       "      <td>artifact__201105040918.wav</td>\n",
       "      <td>artifact</td>\n",
       "      <td>[-2.0, 3.0, -4.0, 4.0, -3.0, 2.0, -1.0, 0.0, 0...</td>\n",
       "      <td>396900</td>\n",
       "    </tr>\n",
       "    <tr>\n",
       "      <th>2</th>\n",
       "      <td>artifact__201105041959.wav</td>\n",
       "      <td>artifact</td>\n",
       "      <td>[6.0, -4.0, -9.0, -1.0, -4.0, 1.0, -5.0, 2.0, ...</td>\n",
       "      <td>396900</td>\n",
       "    </tr>\n",
       "    <tr>\n",
       "      <th>3</th>\n",
       "      <td>artifact__201105051017.wav</td>\n",
       "      <td>artifact</td>\n",
       "      <td>[-85.0, -198.0, -214.0, -173.0, -177.0, -206.0...</td>\n",
       "      <td>396900</td>\n",
       "    </tr>\n",
       "    <tr>\n",
       "      <th>4</th>\n",
       "      <td>artifact__201105060108.wav</td>\n",
       "      <td>artifact</td>\n",
       "      <td>[53.0, -35.0, 47.0, 170.0, 340.0, 436.0, 535.0...</td>\n",
       "      <td>396900</td>\n",
       "    </tr>\n",
       "  </tbody>\n",
       "</table>\n",
       "</div>"
      ],
      "text/plain": [
       "                    file_name     label  \\\n",
       "0  artifact__201012172012.wav  artifact   \n",
       "1  artifact__201105040918.wav  artifact   \n",
       "2  artifact__201105041959.wav  artifact   \n",
       "3  artifact__201105051017.wav  artifact   \n",
       "4  artifact__201105060108.wav  artifact   \n",
       "\n",
       "                                         time_series  len_series  \n",
       "0  [1.0, -3.0, -1.0, -7.0, -9.0, -2.0, -6.0, -5.0...      396900  \n",
       "1  [-2.0, 3.0, -4.0, 4.0, -3.0, 2.0, -1.0, 0.0, 0...      396900  \n",
       "2  [6.0, -4.0, -9.0, -1.0, -4.0, 1.0, -5.0, 2.0, ...      396900  \n",
       "3  [-85.0, -198.0, -214.0, -173.0, -177.0, -206.0...      396900  \n",
       "4  [53.0, -35.0, 47.0, 170.0, 340.0, 436.0, 535.0...      396900  "
      ]
     },
     "execution_count": 76,
     "metadata": {},
     "output_type": "execute_result"
    }
   ],
   "source": [
    "def padd_zeros(array,length):\n",
    "    aux = np.zeros(length)\n",
    "    aux[:array.shape[0]] = array\n",
    "    return aux\n",
    "new_df =pd.DataFrame({'file_name' : df['fname'].apply(clean_filename,string='Aunlabelledtest')})\n",
    "new_df['label']=df['label']\n",
    "new_df['time_series'] = new_df['file_name'].apply(load_wav_file, path='set_a/')\n",
    "new_df['len_series'] = new_df['time_series'].apply(len)\n",
    "new_df['time_series']=new_df['time_series'].apply(padd_zeros,length=max(new_df['len_series']))\n",
    "new_df['len_series'] = new_df['time_series'].apply(len)\n",
    "new_df.head(5)"
   ]
  },
  {
   "cell_type": "markdown",
   "metadata": {},
   "source": [
    "Este paso es de gran importancia ya que necesitamos que todos los datos \n",
    "Tambien es importante notar que todos los archivos que no tenian categoria se les agrego \"Aunlabelledtest\" en el nombre para que así concordara con los archivos .wav"
   ]
  },
  {
   "cell_type": "markdown",
   "metadata": {},
   "source": [
    ">c) Manipule los datos y cambie las etiquetas de los audios por otras asignadas por un doctor experto [4], el cual afirma que estos cambios son requeridos. Vuelva a determinar cuántos registros hay por clase. Nótese que ahora son 3 clases ¿Explique la problemática de tener etiquetas mal asignadas en los datos? ¿Un solo dato puede afectar esto?"
   ]
  },
  {
   "cell_type": "code",
   "execution_count": 77,
   "metadata": {},
   "outputs": [
    {
     "data": {
      "text/plain": [
       "artifact    40\n",
       "murmur      34\n",
       "normal      31\n",
       "extrahls    19\n",
       "Name: label, dtype: int64"
      ]
     },
     "execution_count": 77,
     "metadata": {},
     "output_type": "execute_result"
    }
   ],
   "source": [
    "new_df['label'].value_counts()"
   ]
  },
  {
   "cell_type": "code",
   "execution_count": 78,
   "metadata": {},
   "outputs": [
    {
     "data": {
      "text/html": [
       "<div>\n",
       "<style scoped>\n",
       "    .dataframe tbody tr th:only-of-type {\n",
       "        vertical-align: middle;\n",
       "    }\n",
       "\n",
       "    .dataframe tbody tr th {\n",
       "        vertical-align: top;\n",
       "    }\n",
       "\n",
       "    .dataframe thead th {\n",
       "        text-align: right;\n",
       "    }\n",
       "</style>\n",
       "<table border=\"1\" class=\"dataframe\">\n",
       "  <thead>\n",
       "    <tr style=\"text-align: right;\">\n",
       "      <th></th>\n",
       "      <th>file_name</th>\n",
       "      <th>label</th>\n",
       "      <th>time_series</th>\n",
       "      <th>len_series</th>\n",
       "      <th>targetNumber</th>\n",
       "      <th>targetString</th>\n",
       "    </tr>\n",
       "  </thead>\n",
       "  <tbody>\n",
       "    <tr>\n",
       "      <th>0</th>\n",
       "      <td>artifact__201012172012.wav</td>\n",
       "      <td>artifact</td>\n",
       "      <td>[1.0, -3.0, -1.0, -7.0, -9.0, -2.0, -6.0, -5.0...</td>\n",
       "      <td>396900</td>\n",
       "      <td>0.0</td>\n",
       "      <td>artifact</td>\n",
       "    </tr>\n",
       "    <tr>\n",
       "      <th>1</th>\n",
       "      <td>artifact__201105040918.wav</td>\n",
       "      <td>artifact</td>\n",
       "      <td>[-2.0, 3.0, -4.0, 4.0, -3.0, 2.0, -1.0, 0.0, 0...</td>\n",
       "      <td>396900</td>\n",
       "      <td>0.0</td>\n",
       "      <td>artifact</td>\n",
       "    </tr>\n",
       "    <tr>\n",
       "      <th>2</th>\n",
       "      <td>artifact__201105041959.wav</td>\n",
       "      <td>artifact</td>\n",
       "      <td>[6.0, -4.0, -9.0, -1.0, -4.0, 1.0, -5.0, 2.0, ...</td>\n",
       "      <td>396900</td>\n",
       "      <td>0.0</td>\n",
       "      <td>artifact</td>\n",
       "    </tr>\n",
       "    <tr>\n",
       "      <th>3</th>\n",
       "      <td>artifact__201105051017.wav</td>\n",
       "      <td>artifact</td>\n",
       "      <td>[-85.0, -198.0, -214.0, -173.0, -177.0, -206.0...</td>\n",
       "      <td>396900</td>\n",
       "      <td>0.0</td>\n",
       "      <td>artifact</td>\n",
       "    </tr>\n",
       "    <tr>\n",
       "      <th>4</th>\n",
       "      <td>artifact__201105060108.wav</td>\n",
       "      <td>artifact</td>\n",
       "      <td>[53.0, -35.0, 47.0, 170.0, 340.0, 436.0, 535.0...</td>\n",
       "      <td>396900</td>\n",
       "      <td>0.0</td>\n",
       "      <td>artifact</td>\n",
       "    </tr>\n",
       "  </tbody>\n",
       "</table>\n",
       "</div>"
      ],
      "text/plain": [
       "                    file_name     label  \\\n",
       "0  artifact__201012172012.wav  artifact   \n",
       "1  artifact__201105040918.wav  artifact   \n",
       "2  artifact__201105041959.wav  artifact   \n",
       "3  artifact__201105051017.wav  artifact   \n",
       "4  artifact__201105060108.wav  artifact   \n",
       "\n",
       "                                         time_series  len_series  \\\n",
       "0  [1.0, -3.0, -1.0, -7.0, -9.0, -2.0, -6.0, -5.0...      396900   \n",
       "1  [-2.0, 3.0, -4.0, 4.0, -3.0, 2.0, -1.0, 0.0, 0...      396900   \n",
       "2  [6.0, -4.0, -9.0, -1.0, -4.0, 1.0, -5.0, 2.0, ...      396900   \n",
       "3  [-85.0, -198.0, -214.0, -173.0, -177.0, -206.0...      396900   \n",
       "4  [53.0, -35.0, 47.0, 170.0, 340.0, 436.0, 535.0...      396900   \n",
       "\n",
       "   targetNumber targetString  \n",
       "0           0.0     artifact  \n",
       "1           0.0     artifact  \n",
       "2           0.0     artifact  \n",
       "3           0.0     artifact  \n",
       "4           0.0     artifact  "
      ]
     },
     "execution_count": 78,
     "metadata": {},
     "output_type": "execute_result"
    }
   ],
   "source": [
    "new_df['label'].value_counts()\n",
    "new_labels =np.zeros(176)\n",
    "new_labels[41:59]=1\n",
    "for x in [40, 55]:\n",
    "    new_labels[x] = 2\n",
    "new_labels[59:93] = 2\n",
    "for x in [62,63,65,68]:\n",
    "    new_labels[x] = 1\n",
    "new_labels[93:124] = 1\n",
    "for x in [101, 107, 115, 116, 122]:\n",
    "    new_labels[x] = 2\n",
    "new_labels[124:]=[0,2,2,1,1,1,1,1,0,1,0,1,1,1,2,1,0,1,1,1,1,1,2,0,0,0,0,0,0,0,1,0,0,0,0,0,0,1,0,2,1,2,2,2,2,2,2,2,2,2,2,2]\n",
    "\n",
    "\n",
    "\n",
    "strArr = np.empty(176, dtype=object)\n",
    "for i in range (176):\n",
    "    if new_labels[i]==0:\n",
    "        strArr[i]='artifact'\n",
    "    if new_labels[i]==1:\n",
    "        strArr[i]='normal/extrahls'\n",
    "    if new_labels[i]==2:\n",
    "        strArr[i]='murmur'  \n",
    "        \n",
    "new_df['targetNumber']=new_labels\n",
    "new_df['targetString'] = strArr\n",
    "new_df.head()\n"
   ]
  },
  {
   "cell_type": "code",
   "execution_count": 79,
   "metadata": {},
   "outputs": [
    {
     "data": {
      "text/plain": [
       "normal/extrahls    65\n",
       "artifact           58\n",
       "murmur             53\n",
       "Name: targetString, dtype: int64"
      ]
     },
     "execution_count": 79,
     "metadata": {},
     "output_type": "execute_result"
    }
   ],
   "source": [
    "new_df['targetString'].value_counts()"
   ]
  },
  {
   "cell_type": "markdown",
   "metadata": {},
   "source": [
    "Se creo una nueva columna con los datos bien categorizados que se le llamo \"targetString\".\n",
    "\n",
    "Efectivamente este paso es de vital importancia, ya que al tener datos mal categorizados nuestra maquina aprende mal. \n",
    "\n",
    "Si se tiene solo un dato mal categorizado nos contaminaria el entrenamiento de la maquina, pero este no influye mucho debido a la gran cantidad de datos que se tiene. Por eso mismo podemos decir que mientras mas datos se tengan mas despreciable es un mal ejemplo y si se tiene menos datos influye mas."
   ]
  },
  {
   "cell_type": "markdown",
   "metadata": {},
   "source": [
    ">d) Codifique las distintas clases a valores numéricos para que puedan ser trabajados por los algoritmos clasificadores."
   ]
  },
  {
   "cell_type": "markdown",
   "metadata": {},
   "source": [
    "Este paso se aprovecho de hacer en la pregunta \"c\" y se le llamo \"targetNumber\"."
   ]
  },
  {
   "cell_type": "markdown",
   "metadata": {},
   "source": [
    ">e) Desordene los datos, evitando ası́ el orden en el que vienen la gran mayorı́a de las etiquetas. Cree la matriz que conforma a los datos en sus dimensiones sin preprocesar, es decir, cada ejemplo es una secuencia de amplitudes en el tiempo. ¿Las dimensiones de ésta indica que puede generar problemas? ¿De qué tipo?"
   ]
  },
  {
   "cell_type": "code",
   "execution_count": 80,
   "metadata": {},
   "outputs": [],
   "source": [
    "new_df = new_df.sample(frac=1,random_state=44)"
   ]
  },
  {
   "cell_type": "code",
   "execution_count": 81,
   "metadata": {},
   "outputs": [
    {
     "data": {
      "text/html": [
       "<div>\n",
       "<style scoped>\n",
       "    .dataframe tbody tr th:only-of-type {\n",
       "        vertical-align: middle;\n",
       "    }\n",
       "\n",
       "    .dataframe tbody tr th {\n",
       "        vertical-align: top;\n",
       "    }\n",
       "\n",
       "    .dataframe thead th {\n",
       "        text-align: right;\n",
       "    }\n",
       "</style>\n",
       "<table border=\"1\" class=\"dataframe\">\n",
       "  <thead>\n",
       "    <tr style=\"text-align: right;\">\n",
       "      <th></th>\n",
       "      <th>file_name</th>\n",
       "      <th>label</th>\n",
       "      <th>time_series</th>\n",
       "      <th>len_series</th>\n",
       "      <th>targetNumber</th>\n",
       "      <th>targetString</th>\n",
       "    </tr>\n",
       "  </thead>\n",
       "  <tbody>\n",
       "    <tr>\n",
       "      <th>3</th>\n",
       "      <td>artifact__201105051017.wav</td>\n",
       "      <td>artifact</td>\n",
       "      <td>[-85.0, -198.0, -214.0, -173.0, -177.0, -206.0...</td>\n",
       "      <td>396900</td>\n",
       "      <td>0.0</td>\n",
       "      <td>artifact</td>\n",
       "    </tr>\n",
       "    <tr>\n",
       "      <th>126</th>\n",
       "      <td>Aunlabelledtest__201101061552.wav</td>\n",
       "      <td>NaN</td>\n",
       "      <td>[96.0, 90.0, 84.0, 64.0, 66.0, 44.0, 50.0, 32....</td>\n",
       "      <td>396900</td>\n",
       "      <td>2.0</td>\n",
       "      <td>murmur</td>\n",
       "    </tr>\n",
       "    <tr>\n",
       "      <th>45</th>\n",
       "      <td>extrahls__201101161027.wav</td>\n",
       "      <td>extrahls</td>\n",
       "      <td>[220.0, 191.0, 171.0, 138.0, 202.0, 196.0, 211...</td>\n",
       "      <td>396900</td>\n",
       "      <td>1.0</td>\n",
       "      <td>normal/extrahls</td>\n",
       "    </tr>\n",
       "  </tbody>\n",
       "</table>\n",
       "</div>"
      ],
      "text/plain": [
       "                             file_name     label  \\\n",
       "3           artifact__201105051017.wav  artifact   \n",
       "126  Aunlabelledtest__201101061552.wav       NaN   \n",
       "45          extrahls__201101161027.wav  extrahls   \n",
       "\n",
       "                                           time_series  len_series  \\\n",
       "3    [-85.0, -198.0, -214.0, -173.0, -177.0, -206.0...      396900   \n",
       "126  [96.0, 90.0, 84.0, 64.0, 66.0, 44.0, 50.0, 32....      396900   \n",
       "45   [220.0, 191.0, 171.0, 138.0, 202.0, 196.0, 211...      396900   \n",
       "\n",
       "     targetNumber     targetString  \n",
       "3             0.0         artifact  \n",
       "126           2.0           murmur  \n",
       "45            1.0  normal/extrahls  "
      ]
     },
     "execution_count": 81,
     "metadata": {},
     "output_type": "execute_result"
    }
   ],
   "source": [
    "new_df.head(3)"
   ]
  },
  {
   "cell_type": "code",
   "execution_count": 82,
   "metadata": {},
   "outputs": [],
   "source": [
    "X = np.stack(new_df['time_series'].values, axis=0)\n",
    "y = new_df.targetNumber.values"
   ]
  },
  {
   "cell_type": "code",
   "execution_count": 83,
   "metadata": {},
   "outputs": [
    {
     "data": {
      "text/plain": [
       "(176, 396900)"
      ]
     },
     "execution_count": 83,
     "metadata": {},
     "output_type": "execute_result"
    }
   ],
   "source": [
    "X.shape"
   ]
  },
  {
   "cell_type": "code",
   "execution_count": 84,
   "metadata": {},
   "outputs": [
    {
     "data": {
      "text/plain": [
       "array([0., 2., 1., 0., 2., 0., 0., 1., 2., 2., 1., 1., 0., 2., 1., 1., 1.,\n",
       "       1., 0., 0., 2., 1., 0., 0., 0., 1., 2., 2., 2., 1., 2., 1., 2., 0.,\n",
       "       0., 1., 1., 0., 1., 1., 0., 1., 2., 1., 0., 2., 1., 0., 1., 2., 0.,\n",
       "       0., 2., 1., 1., 2., 1., 2., 1., 2., 0., 1., 1., 2., 1., 0., 1., 1.,\n",
       "       1., 1., 2., 0., 0., 0., 0., 0., 2., 0., 1., 1., 0., 0., 0., 2., 1.,\n",
       "       1., 0., 1., 0., 2., 1., 0., 0., 0., 2., 2., 0., 2., 1., 1., 0., 1.,\n",
       "       0., 2., 1., 1., 0., 0., 2., 2., 2., 1., 1., 0., 0., 2., 2., 2., 1.,\n",
       "       1., 2., 0., 0., 1., 1., 1., 2., 1., 1., 0., 0., 0., 1., 1., 2., 1.,\n",
       "       1., 0., 0., 2., 0., 1., 0., 2., 1., 2., 2., 0., 0., 2., 2., 0., 2.,\n",
       "       2., 2., 1., 1., 2., 0., 0., 1., 1., 1., 2., 0., 2., 0., 1., 2., 2.,\n",
       "       1., 1., 2., 2., 2., 0.])"
      ]
     },
     "execution_count": 84,
     "metadata": {},
     "output_type": "execute_result"
    }
   ],
   "source": [
    "y"
   ]
  },
  {
   "cell_type": "markdown",
   "metadata": {},
   "source": [
    "La dimesión de esta gran matriz puede generar 2 problemas, el primero es que la capacidad de procesamiento que consume al ser procesado los dato y el segundo es que al tener tantas dimensiones deben haber algunos datos que no aportan a nuestro modelo, por lo cual tenemos que buscar cuales son los mas significativos."
   ]
  },
  {
   "cell_type": "markdown",
   "metadata": {},
   "source": [
    ">f) Para pre-procesar la secuencia en el tiempo realice una transformada de fourier discreta [5] para pasar los datos desde el dominio de tiempos al dominio de frecuencias presentes en la señal de sonido. Visualice el cambio de representación."
   ]
  },
  {
   "cell_type": "code",
   "execution_count": 86,
   "metadata": {},
   "outputs": [],
   "source": [
    "X_fourier = np.abs(np.fft.fft(X))"
   ]
  },
  {
   "cell_type": "code",
   "execution_count": 87,
   "metadata": {},
   "outputs": [
    {
     "data": {
      "text/plain": [
       "array([[ 178117.        ,  547530.62464519, 1089559.92330764, ...,\n",
       "         233192.12529808, 1089559.92330764,  547530.62464519],\n",
       "       [ 205083.        ,  207594.34125677,  249731.48468497, ...,\n",
       "         263086.58181293,  249731.48468497,  207594.34125677],\n",
       "       [1065463.        ,  443005.60828815,  336340.94408033, ...,\n",
       "         133880.55699928,  336340.94408033,  443005.60828815],\n",
       "       ...,\n",
       "       [2560689.        , 1797252.47627465, 1779494.39279086, ...,\n",
       "        2027365.28881495, 1779494.39279086, 1797252.47627465],\n",
       "       [ 549835.        , 3218604.15040447,  937083.3674308 , ...,\n",
       "         248018.11686898,  937083.3674308 , 3218604.15040447],\n",
       "       [ 739686.        ,  393704.52037108,  851907.98422727, ...,\n",
       "        1366322.93343479,  851907.98422727,  393704.52037108]])"
      ]
     },
     "execution_count": 87,
     "metadata": {},
     "output_type": "execute_result"
    }
   ],
   "source": [
    "X_fourier"
   ]
  },
  {
   "cell_type": "code",
   "execution_count": 88,
   "metadata": {},
   "outputs": [
    {
     "data": {
      "text/plain": [
       "(176, 396900)"
      ]
     },
     "execution_count": 88,
     "metadata": {},
     "output_type": "execute_result"
    }
   ],
   "source": [
    "X_fourier.shape"
   ]
  },
  {
   "cell_type": "markdown",
   "metadata": {},
   "source": [
    "A continuación se ve la representación del cambio."
   ]
  },
  {
   "cell_type": "code",
   "execution_count": 90,
   "metadata": {},
   "outputs": [
    {
     "name": "stdout",
     "output_type": "stream",
     "text": [
      "[[  -85.  -198.  -214. ...  -110.   -74.   -76.]\n",
      " [   96.    90.    84. ...     0.     0.     0.]\n",
      " [  220.   191.   171. ...     0.     0.     0.]\n",
      " ...\n",
      " [  376.   413.   429. ...     0.     0.     0.]\n",
      " [ -404.  -442.  -456. ...     0.     0.     0.]\n",
      " [-2169. -2661. -1605. ...   435.   373.   417.]]\n",
      "(176, 396900)\n",
      "DescribeResult(nobs=396900, minmax=(-29660.0, 28892.0), mean=-0.44877047115142354, variance=345450.211931373, skewness=-1.071064514169327, kurtosis=329.85051411240937)\n",
      "\n",
      "***********\n",
      "\n",
      "[[ 178117.          547530.62464519 1089559.92330764 ...  233192.12529808\n",
      "  1089559.92330764  547530.62464519]\n",
      " [ 205083.          207594.34125677  249731.48468497 ...  263086.58181293\n",
      "   249731.48468497  207594.34125677]\n",
      " [1065463.          443005.60828815  336340.94408033 ...  133880.55699928\n",
      "   336340.94408033  443005.60828815]\n",
      " ...\n",
      " [2560689.         1797252.47627465 1779494.39279086 ... 2027365.28881495\n",
      "  1779494.39279086 1797252.47627465]\n",
      " [ 549835.         3218604.15040447  937083.3674308  ...  248018.11686898\n",
      "   937083.3674308  3218604.15040447]\n",
      " [ 739686.          393704.52037108  851907.98422727 ... 1366322.93343479\n",
      "   851907.98422727  393704.52037108]]\n",
      "(176, 396900)\n",
      "DescribeResult(nobs=396900, minmax=(387.98804227466053, 5939262.951841503), mean=196111.23141705318, variance=98649557061.2434, skewness=4.953583146738964, kurtosis=37.01266076301798)\n"
     ]
    }
   ],
   "source": [
    "from scipy import stats\n",
    "print X\n",
    "print X.shape\n",
    "print stats.describe(X[0])\n",
    "print \"\\n***********\\n\"\n",
    "print X_fourier\n",
    "print X_fourier.shape\n",
    "print stats.describe(X_fourier[0])"
   ]
  },
  {
   "cell_type": "markdown",
   "metadata": {},
   "source": [
    ">g) Para seguir con el pre-procesamiento realice un muestreo representativo de los datos a través de una técnica de muestreo especializada en secuencias ¿En qué beneficia este paso? ¿Cómo podrı́a determinar si el muestro es representativo?"
   ]
  },
  {
   "cell_type": "markdown",
   "metadata": {},
   "source": [
    "Al aplicar la función resample cambia la forma de muestreo aumentando el tiempo total registrado por cada columna de la matriz. Ej: si antes por cada columna se registraba 1 segundo. ahora por cada columna se registran 3 seg. Lo anterior sirve para disminuir la dimensionalidad del problema. \n",
    "\n",
    "Para saber si es representativo se podria comparar los valores adyacentes de la matriz en el tiempo y si los valores son muy distintos entre si significa que la muestra a cambiado mucho. \n"
   ]
  },
  {
   "cell_type": "code",
   "execution_count": 89,
   "metadata": {},
   "outputs": [
    {
     "data": {
      "text/plain": [
       "(176, 100000)"
      ]
     },
     "execution_count": 89,
     "metadata": {},
     "output_type": "execute_result"
    }
   ],
   "source": [
    "from scipy import signal\n",
    "X_resampled = []\n",
    "for i in range(X_fourier.shape[0]):\n",
    "    sequence = X_fourier[i,:].copy()\n",
    "    resampled_sequence = signal.resample(sequence, 100000)\n",
    "    X_resampled.append(resampled_sequence)\n",
    "X_resampled = np.array(X_resampled)\n",
    "X_resampled.shape\n"
   ]
  },
  {
   "cell_type": "code",
   "execution_count": 19,
   "metadata": {},
   "outputs": [
    {
     "data": {
      "text/plain": [
       "array([[ 619562.07321251,  390165.06006105,  313107.06023288, ...,\n",
       "         369442.478576  ,  313107.06023288,  390165.06006105],\n",
       "       [ 190983.14319535,  227856.25010899,  234027.19467463, ...,\n",
       "         214362.66206785,  234027.19467463,  227856.25010899],\n",
       "       [ 514362.79527397,  289818.11832802,  344134.44483949, ...,\n",
       "         398388.99723239,  344134.44483949,  289818.11832802],\n",
       "       ...,\n",
       "       [2498392.41059092, 1323021.69974666, 1956726.02668511, ...,\n",
       "         527032.62769373, 1956726.02668511, 1323021.69974666],\n",
       "       [1701039.18357162,  927198.73406466,  929414.45354862, ...,\n",
       "        1202877.38348426,  929414.45354862,  927198.73406466],\n",
       "       [ 220645.28159303, 2142360.0163202 , 1042164.94573052, ...,\n",
       "        2286331.00809641, 1042164.94573052, 2142360.01632019]])"
      ]
     },
     "execution_count": 19,
     "metadata": {},
     "output_type": "execute_result"
    }
   ],
   "source": [
    "X_resampled"
   ]
  },
  {
   "cell_type": "code",
   "execution_count": 20,
   "metadata": {},
   "outputs": [
    {
     "name": "stdout",
     "output_type": "stream",
     "text": [
      "(176,)\n",
      "(176, 100000)\n"
     ]
    }
   ],
   "source": [
    "print (y.shape)\n",
    "print (X_resampled.shape)"
   ]
  },
  {
   "cell_type": "markdown",
   "metadata": {},
   "source": [
    ">h) Debido a que no hay conjunto de pruebas, y que es necesario para evaluar la calidad final del modelo, genérelo a través de la técnica hold-out"
   ]
  },
  {
   "cell_type": "markdown",
   "metadata": {},
   "source": [
    "Primero se usara un 20% holdout y despues del 80% restante se usara 25% será test y 75% será validation."
   ]
  },
  {
   "cell_type": "code",
   "execution_count": 21,
   "metadata": {},
   "outputs": [],
   "source": [
    "from sklearn.model_selection import train_test_split\n",
    "X_a, X_HOLD, y_a, y_HOLD = train_test_split(X_resampled, y, test_size=0.20, random_state=42)\n",
    "X_train, X_test, y_train, y_test = train_test_split(X_a, y_a, test_size=0.25, random_state=42)"
   ]
  },
  {
   "cell_type": "code",
   "execution_count": 22,
   "metadata": {},
   "outputs": [
    {
     "name": "stdout",
     "output_type": "stream",
     "text": [
      "x& y\n",
      "(176, 100000)\n",
      "(176,)\n",
      "x holdout & y holdout\n",
      "(36, 100000)\n",
      "(36,)\n",
      "x train & y train\n",
      "(105, 100000)\n",
      "(105,)\n",
      "x test & y test\n",
      "(35, 100000)\n",
      "(35,)\n"
     ]
    }
   ],
   "source": [
    "print \"x& y\"\n",
    "print (X_resampled.shape)\n",
    "print (y.shape)\n",
    "print \"x holdout & y holdout\"\n",
    "print (X_HOLD.shape)\n",
    "print (y_HOLD.shape)\n",
    "print \"x train & y train\"\n",
    "print (X_train.shape)\n",
    "print (y_train.shape)\n",
    "print \"x test & y test\"\n",
    "print (X_test.shape)\n",
    "print (y_test.shape)"
   ]
  },
  {
   "cell_type": "markdown",
   "metadata": {},
   "source": [
    ">i) Realice un proceso de estándarizar los datos para ser trabajados adecuadamente. Recuerde que solo se debe ajustar (calcular media y desviación estándar) con el conjunto de entrenamiento."
   ]
  },
  {
   "cell_type": "code",
   "execution_count": 23,
   "metadata": {},
   "outputs": [
    {
     "name": "stdout",
     "output_type": "stream",
     "text": [
      "275293.52526891837\n",
      "2139488.115459216\n"
     ]
    }
   ],
   "source": [
    "print np.mean(X_train) \n",
    "print np.std(X_train) "
   ]
  },
  {
   "cell_type": "code",
   "execution_count": 24,
   "metadata": {},
   "outputs": [],
   "source": [
    "from sklearn.preprocessing import StandardScaler\n",
    "std = StandardScaler(with_mean=True, with_std=True)\n",
    "std.fit(X_train)\n",
    "X_train = std.transform(X_train)\n",
    "X_test = std.transform(X_test)"
   ]
  },
  {
   "cell_type": "markdown",
   "metadata": {},
   "source": [
    ">j) Realice una reducción de dimensionalidad a través de la técnica PCA, para representar los datos en  𝑑=2  dimensiones. Recuerde que solo se debe ajustar (encontrar las componentes principales) con el conjunto de entrenamiento. Visualice apropiadamente la proyección en 2 dimensiones"
   ]
  },
  {
   "cell_type": "code",
   "execution_count": 65,
   "metadata": {},
   "outputs": [
    {
     "data": {
      "image/png": "[encoded data removed]",
      "text/plain": [
       "<Figure size 432x288 with 1 Axes>"
      ]
     },
     "metadata": {
      "needs_background": "light"
     },
     "output_type": "display_data"
    }
   ],
   "source": [
    "from sklearn.decomposition import PCA\n",
    "def model_d_PCA(d):\n",
    "    return PCA(n_components=d)\n",
    "d=2\n",
    "pca_model = model_d_PCA(d)\n",
    "\n",
    "pca_model.fit(X_train)\n",
    "X_pca_train = pca_model.transform(X_train)\n",
    "X_pca_test = pca_model.transform(X_test)\n",
    "\n",
    "import matplotlib.pyplot as plt\n",
    "plt.plot(X_pca_train)\n",
    "plt.show()"
   ]
  },
  {
   "cell_type": "markdown",
   "metadata": {},
   "source": [
    ">k) Entrene un modelo de Regresión Logı́stica variando el parámetro de regularización  𝐶  construyendo un gráfico resumen del error en función de este hiper-parámetro. Además entrene un Perceptrón, variando el hiper-parámetro de regularización  𝛼  en el rango inverso que para la Regresión Logı́stica ¿Por qué? Contruya el mismo gráfico resumen, en función de  𝐶  o  𝛼 . Compare y comente lo observado."
   ]
  },
  {
   "cell_type": "code",
   "execution_count": 66,
   "metadata": {},
   "outputs": [
    {
     "data": {
      "image/png": "[encoded data removed]",
      "text/plain": [
       "<Figure size 432x288 with 1 Axes>"
      ]
     },
     "metadata": {
      "needs_background": "light"
     },
     "output_type": "display_data"
    }
   ],
   "source": [
    "#Logistic REGRESSION\n",
    "from sklearn.linear_model import LogisticRegression\n",
    "Cs = [0.0001,0.001,0.01,0.1,1,10,100,1000,10000]\n",
    "for i in range (9):\n",
    "    x=Cs[i]\n",
    "    model = LogisticRegression(penalty='l2', C=x,max_iter=200)\n",
    "    model.fit(X_pca_train,y_train)   \n",
    "    y=model.score(X_pca_test,y_test)\n",
    "    if i==0:\n",
    "        data=np.array([[x,y]])\n",
    "    else:\n",
    "        newrow=[x,y]\n",
    "        data=np.vstack([data,newrow])\n",
    "def plot(data):\n",
    "    x,y=data.T\n",
    "    plt.scatter(x,y)\n",
    "    plt.show()\n",
    "plot(data)"
   ]
  },
  {
   "cell_type": "code",
   "execution_count": 67,
   "metadata": {},
   "outputs": [
    {
     "data": {
      "image/png": "[encoded data removed]",
      "text/plain": [
       "<Figure size 432x288 with 1 Axes>"
      ]
     },
     "metadata": {
      "needs_background": "light"
     },
     "output_type": "display_data"
    }
   ],
   "source": [
    "#PERCEPTRON\n",
    "from sklearn.linear_model import Perceptron\n",
    "Cs = [0.0001,0.001,0.01,0.1,1,10,100,1000,10000]\n",
    "for i in range (9):\n",
    "    x=Cs[i]\n",
    "    model = Perceptron(penalty='l2', alpha=1.0/x, max_iter=200)\n",
    "    model.fit(X_pca_train,y_train)  \n",
    "    y=model.score(X_pca_test,y_test)\n",
    "    if i==0:\n",
    "        data=np.array([[x,y]])\n",
    "    else:\n",
    "        newrow=[x,y]\n",
    "        data=np.vstack([data,newrow])\n",
    "plot(data)"
   ]
  },
  {
   "cell_type": "markdown",
   "metadata": {},
   "source": [
    "Se peude ver que el accuracy de la regresión logistica es mucho mejor que el del perceptrón. Podemos darnos cuenta que C no es directamente proporcional al accuracy de la regresión logistica, mientras que alpha es inversamente proporcional al accuracy de el perceptrón. Por esto mismo se usa el inverso de C como alpha."
   ]
  },
  {
   "cell_type": "markdown",
   "metadata": {},
   "source": [
    ">l) Genere otra representación de los datos a través de la técnica de reducción de dimensionalidad ICA, con dimensionalidad  𝑑=2 . Recuerde que sólo se debe ajustar con el conjunto de entrenamiento, si se muestra un warning explique el porqué. Visualice apropiadamente la proyección en 2 dimensiones. Vuelva a realizar el item k) pero para esta nueva representación."
   ]
  },
  {
   "cell_type": "code",
   "execution_count": 68,
   "metadata": {},
   "outputs": [
    {
     "data": {
      "image/png": "[encoded data removed]",
      "text/plain": [
       "<Figure size 432x288 with 1 Axes>"
      ]
     },
     "metadata": {
      "needs_background": "light"
     },
     "output_type": "display_data"
    }
   ],
   "source": [
    "from sklearn.decomposition import FastICA\n",
    "def model_d_ICA(d):\n",
    "    return FastICA(n_components=d)\n",
    "\n",
    "d=2\n",
    "ica_model = model_d_ICA(d)\n",
    "\n",
    "ica_model.fit(X_train)\n",
    "X_ica_train = ica_model.transform(X_train)\n",
    "X_ica_test = ica_model.transform(X_test)\n",
    "\n",
    "import matplotlib.pyplot as plt\n",
    "plt.plot(X_ica_train)\n",
    "plt.show()"
   ]
  },
  {
   "cell_type": "code",
   "execution_count": 69,
   "metadata": {},
   "outputs": [
    {
     "data": {
      "image/png": "[encoded data removed]",
      "text/plain": [
       "<Figure size 432x288 with 1 Axes>"
      ]
     },
     "metadata": {
      "needs_background": "light"
     },
     "output_type": "display_data"
    }
   ],
   "source": [
    "#LOGISTIC REGRESSION\n",
    "from sklearn.linear_model import LogisticRegression\n",
    "Cs = [0.0001,0.001,0.01,0.1,1,10,100,1000,10000]\n",
    "for i in range (9):\n",
    "    x=Cs[i]\n",
    "    model = LogisticRegression(penalty='l2', C=x,max_iter=200)\n",
    "    model.fit(X_ica_train,y_train)   \n",
    "    y=model.score(X_ica_test,y_test)\n",
    "    if i==0:\n",
    "        data=np.array([[x,y]])\n",
    "    else:\n",
    "        newrow=[x,y]\n",
    "        data=np.vstack([data,newrow])\n",
    "def plot(data):\n",
    "    x,y=data.T\n",
    "    plt.scatter(x,y)\n",
    "    plt.show()\n",
    "plot(data)"
   ]
  },
  {
   "cell_type": "code",
   "execution_count": 70,
   "metadata": {},
   "outputs": [
    {
     "data": {
      "image/png": "[encoded data removed]",
      "text/plain": [
       "<Figure size 432x288 with 1 Axes>"
      ]
     },
     "metadata": {
      "needs_background": "light"
     },
     "output_type": "display_data"
    }
   ],
   "source": [
    "#PERCEPTRON\n",
    "from sklearn.linear_model import Perceptron\n",
    "Cs = [0.0001,0.001,0.01,0.1,1,10,100,1000,10000]\n",
    "for i in range (9):\n",
    "    x=Cs[i]\n",
    "    model = Perceptron(penalty='l2', alpha=1.0/x, max_iter=200)\n",
    "    model.fit(X_ica_train,y_train)  \n",
    "    y=model.score(X_ica_test,y_test)\n",
    "    if i==0:\n",
    "        data=np.array([[x,y]])\n",
    "    else:\n",
    "        newrow=[x,y]\n",
    "        data=np.vstack([data,newrow])\n",
    "plot(data)"
   ]
  },
  {
   "cell_type": "markdown",
   "metadata": {},
   "source": [
    ">m) Experimente con diferentes dimensiones  𝑑  para la proyección de PCA e ICA con el propósito de obtener un modelo con menor error. Construya una tabla o gráfico resumen de los errores o accuracy, comente."
   ]
  },
  {
   "cell_type": "code",
   "execution_count": 55,
   "metadata": {},
   "outputs": [
    {
     "name": "stdout",
     "output_type": "stream",
     "text": [
      "Tipo \t\t| Dimensión \t| Accuracy \n",
      "ICA \t\t| 2\t\t| 0.37142857142857144\n",
      "PCA \t\t| 2\t\t| 0.6\n",
      "ICA \t\t| 10\t\t| 0.5714285714285714\n",
      "PCA \t\t| 10\t\t| 0.8\n",
      "ICA \t\t| 50\t\t| 0.7428571428571429\n",
      "PCA \t\t| 50\t\t| 0.6857142857142857\n",
      "ICA \t\t| 100\t\t| 0.7428571428571429\n",
      "PCA \t\t| 100\t\t| 0.7714285714285715\n",
      "ICA \t\t| 1000\t\t| 0.42857142857142855\n",
      "PCA \t\t| 1000\t\t| 0.7428571428571429\n",
      "ICA \t\t| 10000\t\t| 0.42857142857142855\n",
      "PCA \t\t| 10000\t\t| 0.7428571428571429\n"
     ]
    }
   ],
   "source": [
    "#LOGISTIC REGRESSION\n",
    "from sklearn.linear_model import LogisticRegression\n",
    "print \"Tipo \\t\\t| Dimensión \\t| Accuracy \"\n",
    "for d in [2,10,50,100,1000, 10000]:\n",
    "    ica_model = model_d_ICA(d)\n",
    "    ica_model.fit(X_train)\n",
    "    X_ica_train = ica_model.transform(X_train)\n",
    "    X_ica_test = ica_model.transform(X_test)\n",
    "    \n",
    "    model = LogisticRegression(penalty='l2', C=10,max_iter=200)\n",
    "    model.fit(X_ica_train,y_train)   \n",
    "    y=model.score(X_ica_test,y_test)\n",
    "    if i==0:\n",
    "        data=np.array([[x,y]])\n",
    "    else:\n",
    "        newrow=[x,y]\n",
    "        data=np.vstack([data,newrow])\n",
    "    print \"ICA \\t\\t| \" + str(d)+ \"\\t\\t| \" + str(y)\n",
    "    \n",
    "    pca_model = model_d_PCA(d)\n",
    "    pca_model.fit(X_train)\n",
    "    X_pca_train= pca_model.transform(X_train)\n",
    "    X_pca_test = pca_model.transform(X_test)\n",
    "    \n",
    "    model = LogisticRegression(penalty='l2', C=10,max_iter=200)\n",
    "    model.fit(X_pca_train,y_train)   \n",
    "    y=model.score(X_pca_test,y_test)\n",
    "    if (i==0):\n",
    "        data=np.array([[x,y]])\n",
    "    else:\n",
    "        newrow=[x,y]\n",
    "        data=np.vstack([data,newrow])\n",
    "        \n",
    "    print \"PCA \\t\\t| \" + str(d) + \"\\t\\t| \" + str(y)"
   ]
  },
  {
   "cell_type": "markdown",
   "metadata": {},
   "source": [
    "Para comparar el ICA con el PCA se uso regresión logistica para calcular el accuracy de cada uno con diferentes dimensiones. \n",
    "\n",
    "Se puede apreciar que uno no es superior al otro para todas las dimensiones, pero podemos ver que el mayor accuracy se produce con pocas dimensiones, por lo cual podemos que ver mayor cantidad de dimensiones no es mayor accuracy. Con esto podemos concluir que al momento de reducir dimensiones se recomienda revisar cuantas dimensiones es lo ideal, en este caso seria usar PCA con 10 dimensiones."
   ]
  },
  {
   "cell_type": "markdown",
   "metadata": {},
   "source": [
    ">n) Realice otra reducción de dimensionalidad ahora a través de la técnica LDA, para representar los datos en  𝑑=2  dimensiones. Recuerde que sólo se debe ajustar con el conjunto de entrenamiento, si se muestra un warning explique el porqué. Visualice apropiadamente la proyección en 2 dimensiones."
   ]
  },
  {
   "cell_type": "code",
   "execution_count": 57,
   "metadata": {},
   "outputs": [
    {
     "data": {
      "image/png": "[encoded data removed]",
      "text/plain": [
       "<Figure size 432x288 with 1 Axes>"
      ]
     },
     "metadata": {
      "needs_background": "light"
     },
     "output_type": "display_data"
    }
   ],
   "source": [
    "from sklearn.discriminant_analysis import LinearDiscriminantAnalysis as LDA\n",
    "lda_model = LDA(n_components=2)\n",
    "lda_model.fit(X_train,y_train)\n",
    "X_lda_train = lda_model.transform(X_train)\n",
    "X_lda_test = lda_model.transform(X_test)\n",
    "\n",
    "import matplotlib.pyplot as plt\n",
    "plt.plot(X_lda_train)\n",
    "plt.show()"
   ]
  },
  {
   "cell_type": "markdown",
   "metadata": {},
   "source": [
    "En este caso el LDA eligio dos frecuencias, pero arroja un warning ya que son todas linialmente dependientes, debido a que son armonicas. Es bueno decir que LDA elije las variables que son linealmente independientes."
   ]
  },
  {
   "cell_type": "markdown",
   "metadata": {},
   "source": [
    "\n"
   ]
  },
  {
   "cell_type": "markdown",
   "metadata": {},
   "source": [
    ">o) Con el propósito de encontrar el mejor modelo vuelva a realizar el item k) en el nuevo espacio generado por la representación según las  𝑑  dimensiones de la proyección LDA. Esta nueva representación ¿mejora o empeora el desempeño? Explique."
   ]
  },
  {
   "cell_type": "code",
   "execution_count": 60,
   "metadata": {},
   "outputs": [
    {
     "data": {
      "image/png": "[encoded data removed]",
      "text/plain": [
       "<Figure size 432x288 with 1 Axes>"
      ]
     },
     "metadata": {
      "needs_background": "light"
     },
     "output_type": "display_data"
    }
   ],
   "source": [
    "#Logistic REGRESSION\n",
    "from sklearn.linear_model import LogisticRegression\n",
    "Cs = [0.0001,0.001,0.01,0.1,1,10,100,1000,10000]\n",
    "for i in range (9):\n",
    "    x=Cs[i]\n",
    "    model = LogisticRegression(penalty='l2', C=x,max_iter=200)\n",
    "    model.fit(X_lda_train,y_train)   \n",
    "    y=model.score(X_lda_test,y_test)\n",
    "    if i==0:\n",
    "        data=np.array([[x,y]])\n",
    "    else:\n",
    "        newrow=[x,y]\n",
    "        data=np.vstack([data,newrow])\n",
    "def plot(data):\n",
    "    x,y=data.T\n",
    "    plt.scatter(x,y)\n",
    "    plt.show()\n",
    "plot(data)"
   ]
  },
  {
   "cell_type": "code",
   "execution_count": 61,
   "metadata": {},
   "outputs": [
    {
     "data": {
      "image/png": "[encoded data removed]",
      "text/plain": [
       "<Figure size 432x288 with 1 Axes>"
      ]
     },
     "metadata": {
      "needs_background": "light"
     },
     "output_type": "display_data"
    }
   ],
   "source": [
    "#PERCEPTRON\n",
    "from sklearn.linear_model import Perceptron\n",
    "Cs = [0.0001,0.001,0.01,0.1,1,10,100,1000,10000]\n",
    "for i in range (9):\n",
    "    x=Cs[i]\n",
    "    model = Perceptron(penalty='l2', alpha=1.0/x, max_iter=200)\n",
    "    model.fit(X_lda_train,y_train)  \n",
    "    y=model.score(X_lda_test,y_test)\n",
    "    if i==0:\n",
    "        data=np.array([[x,y]])\n",
    "    else:\n",
    "        newrow=[x,y]\n",
    "        data=np.vstack([data,newrow])\n",
    "plot(data)"
   ]
  },
  {
   "cell_type": "markdown",
   "metadata": {},
   "source": [
    ">p) Intente mejorar el desempeño de los algoritmos ya entrenados. Diseñe ahora sus propias cracterı́sticas (feature crafting) a partir de los datos brutos (secuencia de amplitudes), puede inspirarse en otros trabajos [6], [7] si desea."
   ]
  },
  {
   "cell_type": "code",
   "execution_count": null,
   "metadata": {},
   "outputs": [],
   "source": []
  }
 ],
 "metadata": {
  "kernelspec": {
   "display_name": "Python 2",
   "language": "python",
   "name": "python2"
  },
  "language_info": {
   "codemirror_mode": {
    "name": "ipython",
    "version": 2
   },
   "file_extension": ".py",
   "mimetype": "text/x-python",
   "name": "python",
   "nbconvert_exporter": "python",
   "pygments_lexer": "ipython2",
   "version": "2.7.15"
  }
 },
 "nbformat": 4,
 "nbformat_minor": 2
}
